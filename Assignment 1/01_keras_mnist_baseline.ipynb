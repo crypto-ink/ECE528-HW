{
  "nbformat": 4,
  "nbformat_minor": 0,
  "metadata": {
    "colab": {
      "provenance": [],
      "collapsed_sections": []
    },
    "kernelspec": {
      "display_name": "Python 3",
      "language": "python",
      "name": "python3"
    },
    "language_info": {
      "codemirror_mode": {
        "name": "ipython",
        "version": 3
      },
      "file_extension": ".py",
      "mimetype": "text/x-python",
      "name": "python",
      "nbconvert_exporter": "python",
      "pygments_lexer": "ipython3",
      "version": "3.9.5"
    }
  },
  "cells": [
    {
      "cell_type": "code",
      "metadata": {
        "colab": {
          "base_uri": "https://localhost:8080/",
          "height": 35
        },
        "id": "opdFPDUIUwFr",
        "outputId": "eacd5c02-6bb1-480d-9b4a-42acac5d2d83"
      },
      "source": [
        "# TensorFlow and tf.keras\n",
        "import tensorflow as tf\n",
        "import numpy as np\n",
        "import math\n",
        "from tensorflow import keras\n",
        "\n",
        "#tf version should be 2.5 or higher\n",
        "tf.__version__"
      ],
      "execution_count": null,
      "outputs": [
        {
          "output_type": "execute_result",
          "data": {
            "text/plain": [
              "'2.8.2'"
            ],
            "application/vnd.google.colaboratory.intrinsic+json": {
              "type": "string"
            }
          },
          "metadata": {},
          "execution_count": 1
        }
      ]
    },
    {
      "cell_type": "code",
      "metadata": {
        "id": "ZHjtjTvPApmE",
        "colab": {
          "base_uri": "https://localhost:8080/"
        },
        "outputId": "e3bc2eb6-ce77-49d3-f1af-38328641f211"
      },
      "source": [
        "#get data\n",
        "(train_images, train_labels), (test_images, test_labels) = \\\n",
        "      keras.datasets.mnist.load_data()"
      ],
      "execution_count": null,
      "outputs": [
        {
          "output_type": "stream",
          "name": "stdout",
          "text": [
            "Downloading data from https://storage.googleapis.com/tensorflow/tf-keras-datasets/mnist.npz\n",
            "11493376/11490434 [==============================] - 0s 0us/step\n",
            "11501568/11490434 [==============================] - 0s 0us/step\n"
          ]
        }
      ]
    },
    {
      "cell_type": "code",
      "metadata": {
        "id": "v7D6clQtApmF",
        "colab": {
          "base_uri": "https://localhost:8080/"
        },
        "outputId": "ff832c2c-cb37-40db-b768-44c25ade02fa"
      },
      "source": [
        "#scale model\n",
        "# train_images = train_images / 255.0\n",
        "# test_images = test_images / 255.0\n",
        "\n",
        "# reshape inputs for CNN layers\n",
        "print(train_images.shape)\n",
        "print(test_images.shape)\n",
        "\n",
        "train_images = train_images.reshape(train_images.shape[0], 28, 28, 1)\n",
        "test_images = test_images.reshape(test_images.shape[0], 28, 28, 1)\n",
        "\n",
        "print(train_images.shape)\n",
        "print(test_images.shape)\n",
        "\n",
        "train_images = train_images / 255.0\n",
        "test_images = test_images / 255.0\n",
        " "
      ],
      "execution_count": null,
      "outputs": [
        {
          "output_type": "stream",
          "name": "stdout",
          "text": [
            "(60000, 28, 28)\n",
            "(10000, 28, 28)\n",
            "(60000, 28, 28, 1)\n",
            "(10000, 28, 28, 1)\n"
          ]
        }
      ]
    },
    {
      "cell_type": "code",
      "metadata": {
        "id": "loAIjR3jApmF"
      },
      "source": [
        "#setup model\n",
        "# model = keras.Sequential([\n",
        "#     keras.layers.Flatten(input_shape=(28, 28)),\n",
        "#     keras.layers.Dense(200, activation = 'relu'),\n",
        "#     keras.layers.Dropout(0.25),\n",
        "#     keras.layers.Dense(100, activation = 'relu'),\n",
        "#     keras.layers.Dropout(0.25),\n",
        "#     keras.layers.Dense(60, activation = 'relu'),\n",
        "#     keras.layers.Dropout(0.25),\n",
        "#     keras.layers.Dense(10, activation = tf.nn.softmax)\n",
        "# ])\n",
        "\n",
        "#setup CNN model\n",
        "model = keras.Sequential([\n",
        "      # tf.keras.layers.Reshape(input_shape=(28*28,), target_shape(28,28,1)),\n",
        "\n",
        "      keras.layers.Conv2D(kernel_size = 3, filters = 12, activation = 'relu', padding = 'same', input_shape=(28,28,1)), \n",
        "      tf.keras.layers.BatchNormalization(center = True, scale = False),\n",
        "      tf.keras.layers.Activation('relu'),\n",
        "\n",
        "      keras.layers.Conv2D(kernel_size = 6, filters = 24, activation = 'relu', padding = 'same', strides = 2),\n",
        "      tf.keras.layers.BatchNormalization(center = True, scale = False),\n",
        "      tf.keras.layers.Activation('relu'),\n",
        "      tf.keras.layers.MaxPool2D((2,2) , strides = 2 , padding = 'same'),\n",
        "      keras.layers.Dropout(0.25),\n",
        "\n",
        "      keras.layers.Conv2D(kernel_size = 6, filters = 32, activation = 'relu', padding = 'same', strides = 2),\n",
        "      tf.keras.layers.BatchNormalization(center = True, scale = False),\n",
        "      tf.keras.layers.Activation('relu'),\n",
        "\n",
        "      keras.layers.Flatten(),\n",
        "\n",
        "      keras.layers.Dense(200, use_bias = False),\n",
        "      tf.keras.layers.BatchNormalization(center = True, scale = False),\n",
        "      tf.keras.layers.Activation('relu'),\n",
        "      keras.layers.Dropout(0.25),\n",
        "\n",
        "      keras.layers.Dense(100, activation = 'relu'),\n",
        "       tf.keras.layers.BatchNormalization(center = True, scale = False),\n",
        "      tf.keras.layers.Activation('relu'),\n",
        "      keras.layers.Dropout(0.25),\n",
        "\n",
        "      keras.layers.Dense(10, activation = 'softmax')\n",
        "      ])"
      ],
      "execution_count": null,
      "outputs": []
    },
    {
      "cell_type": "code",
      "metadata": {
        "id": "oi-6qf76ApmG"
      },
      "source": [
        "#compile model\n",
        "model.compile(optimizer='adam',\n",
        "          loss='sparse_categorical_crossentropy',\n",
        "          metrics=['accuracy'])"
      ],
      "execution_count": null,
      "outputs": []
    },
    {
      "cell_type": "code",
      "metadata": {
        "id": "_u_fUu7H-dBL"
      },
      "source": [
        "#lr decay function\n",
        "def lr_decay(epoch):\n",
        "  return 0.01 * math.pow(0.6, epoch)\n",
        "\n",
        "#lr schedule callback\n",
        "lr_decay_callback = tf.keras.callbacks.LearningRateScheduler(lr_decay,)"
      ],
      "execution_count": null,
      "outputs": []
    },
    {
      "cell_type": "code",
      "metadata": {
        "id": "acO8UacDApmG",
        "colab": {
          "base_uri": "https://localhost:8080/"
        },
        "outputId": "cb8abce9-2219-4126-a7b1-e440513cc127"
      },
      "source": [
        "#train model\n",
        "model.fit(train_images, train_labels, epochs=10, callbacks = [lr_decay_callback])"
      ],
      "execution_count": null,
      "outputs": [
        {
          "output_type": "stream",
          "name": "stdout",
          "text": [
            "Epoch 1/10\n",
            "1016/1875 [===============>..............] - ETA: 41s - loss: 0.2746 - accuracy: 0.9181"
          ]
        }
      ]
    },
    {
      "cell_type": "code",
      "metadata": {
        "id": "psbX0woQApmH"
      },
      "source": [
        "#evaluate\n",
        "test_loss, test_acc = model.evaluate(test_images,  test_labels)\n",
        "print('\\nTest accuracy:', test_acc)"
      ],
      "execution_count": null,
      "outputs": []
    },
    {
      "cell_type": "code",
      "metadata": {
        "id": "Ku-gi_EvApmI"
      },
      "source": [
        "# Predict on the first 5 test images.\n",
        "predictions = model.predict(test_images[:5])"
      ],
      "execution_count": null,
      "outputs": []
    },
    {
      "cell_type": "code",
      "metadata": {
        "id": "FomJF3xiApmJ"
      },
      "source": [
        "#Raw predictions\n",
        "predictions"
      ],
      "execution_count": null,
      "outputs": []
    },
    {
      "cell_type": "code",
      "metadata": {
        "id": "EwgPrs3_ApmJ"
      },
      "source": [
        "# Print our model's predictions\n",
        "print(np.argmax(predictions, axis=1))"
      ],
      "execution_count": null,
      "outputs": []
    },
    {
      "cell_type": "code",
      "metadata": {
        "id": "ZqhqiM7bApmK"
      },
      "source": [
        "# Check our predictions against the ground truths\n",
        "print(test_labels[:5]) # [7, 2, 1, 0, 4]"
      ],
      "execution_count": null,
      "outputs": []
    }
  ]
}